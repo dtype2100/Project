{
 "cells": [
  {
   "cell_type": "markdown",
   "id": "605f6c51",
   "metadata": {},
   "source": [
    "* https://www.dinolabs.ai/m/317\n"
   ]
  },
  {
   "cell_type": "code",
   "execution_count": 1,
   "id": "2b66ee36",
   "metadata": {},
   "outputs": [],
   "source": [
    "import json\n",
    "import pandas as pd"
   ]
  },
  {
   "cell_type": "code",
   "execution_count": 2,
   "id": "9bb9d782",
   "metadata": {},
   "outputs": [],
   "source": [
    "file_path =  '../project/상거래(쇼핑).json'"
   ]
  },
  {
   "cell_type": "code",
   "execution_count": 3,
   "id": "5844fc6a",
   "metadata": {},
   "outputs": [],
   "source": [
    "with open(file_path, 'r', encoding='UTF-8') as file:\n",
    "    json_data = json.load(file)"
   ]
  },
  {
   "cell_type": "code",
   "execution_count": 5,
   "id": "91efa89c",
   "metadata": {},
   "outputs": [
    {
     "name": "stdout",
     "output_type": "stream",
     "text": [
      "115503\n"
     ]
    },
    {
     "data": {
      "text/plain": [
       "{'header': {'dialogueInfo': {'dialogueID': '029fe1d7-5509-5c8a-a080-3a72534964e3',\n",
       "   'numberOfParticipants': 2,\n",
       "   'numberOfUtterances': 17,\n",
       "   'numberOfTurns': 7,\n",
       "   'type': '일상 대화',\n",
       "   'topic': '상거래(쇼핑)'},\n",
       "  'participantsInfo': [{'participantID': 'P01',\n",
       "    'gender': '여성',\n",
       "    'age': '20대',\n",
       "    'residentialProvince': '부산광역시'},\n",
       "   {'participantID': 'P02',\n",
       "    'gender': '여성',\n",
       "    'age': '20대',\n",
       "    'residentialProvince': '경기도'}]},\n",
       " 'body': [{'utteranceID': 'U1',\n",
       "   'turnID': 'T1',\n",
       "   'participantID': 'P01',\n",
       "   'date': '2018-03-23',\n",
       "   'time': '14:32:00',\n",
       "   'utterance': '거기 비쌀까요??'},\n",
       "  {'utteranceID': 'U2',\n",
       "   'turnID': 'T2',\n",
       "   'participantID': 'P02',\n",
       "   'date': '2018-03-23',\n",
       "   'time': '14:35:00',\n",
       "   'utterance': '#@시스템#사진#'},\n",
       "  {'utteranceID': 'U3',\n",
       "   'turnID': 'T2',\n",
       "   'participantID': 'P02',\n",
       "   'date': '2018-03-23',\n",
       "   'time': '14:35:00',\n",
       "   'utterance': '33만원'},\n",
       "  {'utteranceID': 'U4',\n",
       "   'turnID': 'T2',\n",
       "   'participantID': 'P02',\n",
       "   'date': '2018-03-23',\n",
       "   'time': '14:37:00',\n",
       "   'utterance': '#@시스템#사진#'},\n",
       "  {'utteranceID': 'U5',\n",
       "   'turnID': 'T2',\n",
       "   'participantID': 'P02',\n",
       "   'date': '2018-03-23',\n",
       "   'time': '14:37:00',\n",
       "   'utterance': '여기는17마넝'},\n",
       "  {'utteranceID': 'U6',\n",
       "   'turnID': 'T3',\n",
       "   'participantID': 'P01',\n",
       "   'date': '2018-03-23',\n",
       "   'time': '14:41:00',\n",
       "   'utterance': '밑에가 훨 싸네요'},\n",
       "  {'utteranceID': 'U7',\n",
       "   'turnID': 'T3',\n",
       "   'participantID': 'P01',\n",
       "   'date': '2018-03-23',\n",
       "   'time': '14:41:00',\n",
       "   'utterance': '저기도 가깝지 않아요!!'},\n",
       "  {'utteranceID': 'U8',\n",
       "   'turnID': 'T3',\n",
       "   'participantID': 'P01',\n",
       "   'date': '2018-03-23',\n",
       "   'time': '14:42:00',\n",
       "   'utterance': '하루 17만원 인거죠?'},\n",
       "  {'utteranceID': 'U9',\n",
       "   'turnID': 'T3',\n",
       "   'participantID': 'P01',\n",
       "   'date': '2018-03-23',\n",
       "   'time': '14:42:00',\n",
       "   'utterance': '밑에꺼 해욧!!'},\n",
       "  {'utteranceID': 'U10',\n",
       "   'turnID': 'T4',\n",
       "   'participantID': 'P02',\n",
       "   'date': '2018-03-23',\n",
       "   'time': '14:42:00',\n",
       "   'utterance': '응응 두번째보다는 멀지망 가까운편'},\n",
       "  {'utteranceID': 'U11',\n",
       "   'turnID': 'T4',\n",
       "   'participantID': 'P02',\n",
       "   'date': '2018-03-23',\n",
       "   'time': '14:42:00',\n",
       "   'utterance': '오키'},\n",
       "  {'utteranceID': 'U12',\n",
       "   'turnID': 'T4',\n",
       "   'participantID': 'P02',\n",
       "   'date': '2018-03-23',\n",
       "   'time': '14:44:00',\n",
       "   'utterance': '#@시스템#사진#'},\n",
       "  {'utteranceID': 'U13',\n",
       "   'turnID': 'T5',\n",
       "   'participantID': 'P01',\n",
       "   'date': '2018-03-23',\n",
       "   'time': '14:44:00',\n",
       "   'utterance': '두근두근해요'},\n",
       "  {'utteranceID': 'U14',\n",
       "   'turnID': 'T6',\n",
       "   'participantID': 'P02',\n",
       "   'date': '2018-03-23',\n",
       "   'time': '14:44:00',\n",
       "   'utterance': 'Durls여긴별론가위치가??'},\n",
       "  {'utteranceID': 'U15',\n",
       "   'turnID': 'T6',\n",
       "   'participantID': 'P02',\n",
       "   'date': '2018-03-23',\n",
       "   'time': '14:44:00',\n",
       "   'utterance': '시설이 여기가 더 좋다구하가지구'},\n",
       "  {'utteranceID': 'U16',\n",
       "   'turnID': 'T7',\n",
       "   'participantID': 'P01',\n",
       "   'date': '2018-03-23',\n",
       "   'time': '14:44:00',\n",
       "   'utterance': '오진짜요?'},\n",
       "  {'utteranceID': 'U17',\n",
       "   'turnID': 'T7',\n",
       "   'participantID': 'P01',\n",
       "   'date': '2018-03-23',\n",
       "   'time': '14:45:00',\n",
       "   'utterance': '얼마 차이도 안나는데 괜찮을거 같아요'}]}"
      ]
     },
     "execution_count": 5,
     "metadata": {},
     "output_type": "execute_result"
    }
   ],
   "source": [
    "data = json_data['data']\n",
    "print(len(data))\n",
    "data[0]"
   ]
  },
  {
   "cell_type": "code",
   "execution_count": 8,
   "id": "9da252ee",
   "metadata": {},
   "outputs": [
    {
     "name": "stdout",
     "output_type": "stream",
     "text": [
      "일상 대화\n",
      "상거래(쇼핑)\n"
     ]
    }
   ],
   "source": [
    "print(data[0]['header']['dialogueInfo']['type'])\n",
    "print(data[0]['header']['dialogueInfo']['topic'])"
   ]
  },
  {
   "cell_type": "code",
   "execution_count": 9,
   "id": "b0354a81",
   "metadata": {},
   "outputs": [
    {
     "name": "stdout",
     "output_type": "stream",
     "text": [
      "2명\n"
     ]
    }
   ],
   "source": [
    "num_participants = data[0]['header']['dialogueInfo']['numberOfParticipants']\n",
    "print(str(num_participants) + '명')"
   ]
  },
  {
   "cell_type": "code",
   "execution_count": 11,
   "id": "c591a3b0",
   "metadata": {},
   "outputs": [
    {
     "name": "stdout",
     "output_type": "stream",
     "text": [
      "P01 : 20대 부산광역시 여성\n",
      "P02 : 20대 경기도 여성\n"
     ]
    }
   ],
   "source": [
    "for i in range(num_participants) :\n",
    "    p = data[0]['header']['participantsInfo'][i]\n",
    "    print(p['participantID'], ':', p['age'], p['residentialProvince'], p['gender'])"
   ]
  },
  {
   "cell_type": "code",
   "execution_count": 13,
   "id": "7a115b8b",
   "metadata": {},
   "outputs": [
    {
     "name": "stdout",
     "output_type": "stream",
     "text": [
      "P01 : 거기 비쌀까요??\n",
      "P02 : #@시스템#사진#\n",
      "P02 : 33만원\n",
      "P02 : #@시스템#사진#\n",
      "P02 : 여기는17마넝\n",
      "P01 : 밑에가 훨 싸네요\n",
      "P01 : 저기도 가깝지 않아요!!\n",
      "P01 : 하루 17만원 인거죠?\n",
      "P01 : 밑에꺼 해욧!!\n",
      "P02 : 응응 두번째보다는 멀지망 가까운편\n",
      "P02 : 오키\n",
      "P02 : #@시스템#사진#\n",
      "P01 : 두근두근해요\n",
      "P02 : Durls여긴별론가위치가??\n",
      "P02 : 시설이 여기가 더 좋다구하가지구\n",
      "P01 : 오진짜요?\n",
      "P01 : 얼마 차이도 안나는데 괜찮을거 같아요\n"
     ]
    }
   ],
   "source": [
    " for text in data[0]['body'] :\n",
    "    print(text['participantID'], \":\", text['utterance'])"
   ]
  },
  {
   "cell_type": "markdown",
   "id": "5f1c3504",
   "metadata": {},
   "source": [
    "# 식음료"
   ]
  },
  {
   "cell_type": "code",
   "execution_count": 14,
   "id": "237b8f48",
   "metadata": {},
   "outputs": [],
   "source": [
    "file_path = '../project/식음료.json'"
   ]
  },
  {
   "cell_type": "code",
   "execution_count": 15,
   "id": "680599ff",
   "metadata": {},
   "outputs": [],
   "source": [
    "with open(file_path, 'r', encoding='UTF-8') as file:\n",
    "    json_data = json.load(file)"
   ]
  },
  {
   "cell_type": "code",
   "execution_count": 16,
   "id": "13df05c3",
   "metadata": {},
   "outputs": [
    {
     "name": "stdout",
     "output_type": "stream",
     "text": [
      "146620\n"
     ]
    },
    {
     "data": {
      "text/plain": [
       "{'header': {'dialogueInfo': {'dialogueID': '78fd0216-fa53-5570-96ae-adad9cdc434e',\n",
       "   'numberOfParticipants': 2,\n",
       "   'numberOfUtterances': 18,\n",
       "   'numberOfTurns': 11,\n",
       "   'type': '일상 대화',\n",
       "   'topic': '식음료'},\n",
       "  'participantsInfo': [{'participantID': 'P01',\n",
       "    'gender': '여성',\n",
       "    'age': '20대',\n",
       "    'residentialProvince': '서울특별시'},\n",
       "   {'participantID': 'P02',\n",
       "    'gender': '여성',\n",
       "    'age': '30대',\n",
       "    'residentialProvince': '서울특별시'}]},\n",
       " 'body': [{'utteranceID': 'U1',\n",
       "   'turnID': 'T1',\n",
       "   'participantID': 'P01',\n",
       "   'date': '2020-10-08',\n",
       "   'time': '17:06:00',\n",
       "   'utterance': '올라오면서 붕어빵 사먹어'},\n",
       "  {'utteranceID': 'U2',\n",
       "   'turnID': 'T1',\n",
       "   'participantID': 'P01',\n",
       "   'date': '2020-10-08',\n",
       "   'time': '17:06:00',\n",
       "   'utterance': '아님 6시전에 호다닥 치료받고'},\n",
       "  {'utteranceID': 'U3',\n",
       "   'turnID': 'T1',\n",
       "   'participantID': 'P01',\n",
       "   'date': '2020-10-08',\n",
       "   'time': '17:06:00',\n",
       "   'utterance': '#@소속# 버스타고 올ㄹ라와'},\n",
       "  {'utteranceID': 'U4',\n",
       "   'turnID': 'T2',\n",
       "   'participantID': 'P02',\n",
       "   'date': '2020-10-08',\n",
       "   'time': '17:06:00',\n",
       "   'utterance': '붕어빵 어디서팔어?'},\n",
       "  {'utteranceID': 'U5',\n",
       "   'turnID': 'T2',\n",
       "   'participantID': 'P02',\n",
       "   'date': '2020-10-08',\n",
       "   'time': '17:06:00',\n",
       "   'utterance': '버스7시까지ㅋㅋ'},\n",
       "  {'utteranceID': 'U6',\n",
       "   'turnID': 'T2',\n",
       "   'participantID': 'P02',\n",
       "   'date': '2020-10-08',\n",
       "   'time': '17:06:00',\n",
       "   'utterance': '지금학기중'},\n",
       "  {'utteranceID': 'U7',\n",
       "   'turnID': 'T3',\n",
       "   'participantID': 'P01',\n",
       "   'date': '2020-10-08',\n",
       "   'time': '17:06:00',\n",
       "   'utterance': '호똑이랑 붕오랑'},\n",
       "  {'utteranceID': 'U8',\n",
       "   'turnID': 'T3',\n",
       "   'participantID': 'P01',\n",
       "   'date': '2020-10-08',\n",
       "   'time': '17:06:00',\n",
       "   'utterance': '근데 7시 이후로 다녀??'},\n",
       "  {'utteranceID': 'U9',\n",
       "   'turnID': 'T4',\n",
       "   'participantID': 'P02',\n",
       "   'date': '2020-10-08',\n",
       "   'time': '17:06:00',\n",
       "   'utterance': '거기지금 안하는데ㄱㅋ'},\n",
       "  {'utteranceID': 'U10',\n",
       "   'turnID': 'T5',\n",
       "   'participantID': 'P01',\n",
       "   'date': '2020-10-08',\n",
       "   'time': '17:06:00',\n",
       "   'utterance': '어제 올라오면서 봄'},\n",
       "  {'utteranceID': 'U11',\n",
       "   'turnID': 'T5',\n",
       "   'participantID': 'P01',\n",
       "   'date': '2020-10-08',\n",
       "   'time': '17:07:00',\n",
       "   'utterance': '팔아 붕어빵 ㅋㅋ'},\n",
       "  {'utteranceID': 'U12',\n",
       "   'turnID': 'T6',\n",
       "   'participantID': 'P02',\n",
       "   'date': '2020-10-08',\n",
       "   'time': '17:07:00',\n",
       "   'utterance': '아그래?언제열었데ㄱㅋ'},\n",
       "  {'utteranceID': 'U13',\n",
       "   'turnID': 'T7',\n",
       "   'participantID': 'P01',\n",
       "   'date': '2020-10-08',\n",
       "   'time': '17:07:00',\n",
       "   'utterance': '어제 열엇나바'},\n",
       "  {'utteranceID': 'U14',\n",
       "   'turnID': 'T7',\n",
       "   'participantID': 'P01',\n",
       "   'date': '2020-10-08',\n",
       "   'time': '17:07:00',\n",
       "   'utterance': '사람 많더라 ㅋㅋ'},\n",
       "  {'utteranceID': 'U15',\n",
       "   'turnID': 'T8',\n",
       "   'participantID': 'P02',\n",
       "   'date': '2020-10-08',\n",
       "   'time': '17:07:00',\n",
       "   'utterance': '버스눈앞에서 놓치면 붕어빵삼ㅋ'},\n",
       "  {'utteranceID': 'U16',\n",
       "   'turnID': 'T9',\n",
       "   'participantID': 'P01',\n",
       "   'date': '2020-10-08',\n",
       "   'time': '17:07:00',\n",
       "   'utterance': '두개 처넌'},\n",
       "  {'utteranceID': 'U17',\n",
       "   'turnID': 'T10',\n",
       "   'participantID': 'P02',\n",
       "   'date': '2020-10-08',\n",
       "   'time': '17:07:00',\n",
       "   'utterance': '심부름값이냐ㅋ'},\n",
       "  {'utteranceID': 'U18',\n",
       "   'turnID': 'T11',\n",
       "   'participantID': 'P01',\n",
       "   'date': '2020-10-08',\n",
       "   'time': '17:07:00',\n",
       "   'utterance': '감사비용'}]}"
      ]
     },
     "execution_count": 16,
     "metadata": {},
     "output_type": "execute_result"
    }
   ],
   "source": [
    "data = json_data['data']\n",
    "print(len(data))\n",
    "data[0]"
   ]
  },
  {
   "cell_type": "code",
   "execution_count": 17,
   "id": "f6ba320a",
   "metadata": {},
   "outputs": [
    {
     "name": "stdout",
     "output_type": "stream",
     "text": [
      "일상 대화\n",
      "식음료\n"
     ]
    }
   ],
   "source": [
    "print(data[0]['header']['dialogueInfo']['type'])\n",
    "print(data[0]['header']['dialogueInfo']['topic'])"
   ]
  },
  {
   "cell_type": "code",
   "execution_count": 18,
   "id": "2e37a213",
   "metadata": {},
   "outputs": [
    {
     "name": "stdout",
     "output_type": "stream",
     "text": [
      "3\n"
     ]
    }
   ],
   "source": [
    "print(len(data[0]['header']['dialogueInfo']['topic']))"
   ]
  },
  {
   "cell_type": "code",
   "execution_count": 19,
   "id": "1c7c6909",
   "metadata": {},
   "outputs": [
    {
     "name": "stdout",
     "output_type": "stream",
     "text": [
      "2명\n"
     ]
    }
   ],
   "source": [
    "num_participants = data[0]['header']['dialogueInfo']['numberOfParticipants']\n",
    "print(str(num_participants) + '명')"
   ]
  },
  {
   "cell_type": "code",
   "execution_count": 20,
   "id": "fdfefda9",
   "metadata": {},
   "outputs": [
    {
     "name": "stdout",
     "output_type": "stream",
     "text": [
      "P01 : 20대 서울특별시 여성\n",
      "P02 : 30대 서울특별시 여성\n"
     ]
    }
   ],
   "source": [
    "for i in range(num_participants) :\n",
    "    p = data[0]['header']['participantsInfo'][i]\n",
    "    print(p['participantID'], ':', p['age'], p['residentialProvince'], p['gender'])"
   ]
  },
  {
   "cell_type": "code",
   "execution_count": 21,
   "id": "c58e05d6",
   "metadata": {},
   "outputs": [
    {
     "name": "stdout",
     "output_type": "stream",
     "text": [
      "P01 : 올라오면서 붕어빵 사먹어\n",
      "P01 : 아님 6시전에 호다닥 치료받고\n",
      "P01 : #@소속# 버스타고 올ㄹ라와\n",
      "P02 : 붕어빵 어디서팔어?\n",
      "P02 : 버스7시까지ㅋㅋ\n",
      "P02 : 지금학기중\n",
      "P01 : 호똑이랑 붕오랑\n",
      "P01 : 근데 7시 이후로 다녀??\n",
      "P02 : 거기지금 안하는데ㄱㅋ\n",
      "P01 : 어제 올라오면서 봄\n",
      "P01 : 팔아 붕어빵 ㅋㅋ\n",
      "P02 : 아그래?언제열었데ㄱㅋ\n",
      "P01 : 어제 열엇나바\n",
      "P01 : 사람 많더라 ㅋㅋ\n",
      "P02 : 버스눈앞에서 놓치면 붕어빵삼ㅋ\n",
      "P01 : 두개 처넌\n",
      "P02 : 심부름값이냐ㅋ\n",
      "P01 : 감사비용\n"
     ]
    }
   ],
   "source": [
    " for text in data[0]['body'] :\n",
    "    print(text['participantID'], \":\", text['utterance'])"
   ]
  },
  {
   "cell_type": "code",
   "execution_count": 22,
   "id": "023582b3",
   "metadata": {},
   "outputs": [
    {
     "name": "stdout",
     "output_type": "stream",
     "text": [
      "P01 : 비빔면 먹어본적 있음?\n",
      "P01 : 비빔라면\n",
      "P02 : 안먹어봣는데 맛있다더라\n",
      "P01 : 나도 옛날에~\n",
      "P01 : 애들이 그거먹으면 저걸 왜먹나 싶었는데\n",
      "P01 : 여름엔 가끔 끓여먹게 되더라\n",
      "P02 : 먹을만 한가바\n",
      "P01 : 응 양념장이 괜찮아\n",
      "P02 : 그렇구나\n"
     ]
    }
   ],
   "source": [
    " for text in data[1]['body'] :\n",
    "    print(text['participantID'], \":\", text['utterance'])"
   ]
  },
  {
   "cell_type": "code",
   "execution_count": 23,
   "id": "9de5980c",
   "metadata": {},
   "outputs": [
    {
     "name": "stdout",
     "output_type": "stream",
     "text": [
      "P01 : 감자 샐러드\n",
      "P01 : 얼마나\n",
      "P01 : 만들었어?\n",
      "P02 : 전에\n",
      "P02 : 너가 우리집왔을때\n",
      "P02 : 그만큼?\n",
      "P01 : 왤케\n",
      "P01 : 조금 만들었어?\n",
      "P02 : 냉장고 자리가 적어서 ㅎ\n",
      "P02 : 오래보관 못해서 ㅎ\n",
      "P02 : 적당히해쨔 ㅋ\n"
     ]
    }
   ],
   "source": [
    " for text in data[3]['body'] :\n",
    "    print(text['participantID'], \":\", text['utterance'])"
   ]
  },
  {
   "cell_type": "code",
   "execution_count": 30,
   "id": "fd9c76eb",
   "metadata": {},
   "outputs": [
    {
     "name": "stdout",
     "output_type": "stream",
     "text": [
      "P01 : 여기오자\n",
      "P01 : #@시스템#사진#\n",
      "P01 : 빵 맛있어\n",
      "P02 : 오 예쁘다ㅋㅋㅋ\n",
      "P02 : 사람 바글바글해보임\n",
      "P01 : 빵이 굉장히 훌륭해\n",
      "P01 : 웅 근데 단점은 음료 종류가 적어\n",
      "P02 : 시끄러움이 들림ㅋㅋㅋ\n",
      "P02 : 맛있으면 됐지뭐ㅋㅋ\n",
      "P01 : 평일 낮이다 여긴...\n",
      "P01 : 오늘은 주말오후..\n",
      "P02 : 주말오후.....\n",
      "P02 : 마의 시간ㅋㅋ\n",
      "P01 : #@시스템#사진#\n",
      "P01 : 근데 빵이 맛있어서 또 올만해\n",
      "P02 : 빵맛있는게 장땡이야\n",
      "P02 : #@이모티콘# 날 데려가주렴\n",
      "P01 : 파주에 새로생긴카페래\n",
      "P01 : 가자\n",
      "P02 : #@이모티콘# 좋아좋아\n"
     ]
    }
   ],
   "source": [
    " for text in data[4]['body'] :\n",
    "    print(text['participantID'], \":\", text['utterance'])"
   ]
  },
  {
   "cell_type": "code",
   "execution_count": null,
   "id": "87174b48",
   "metadata": {},
   "outputs": [],
   "source": [
    " for text in data[4]['body'] :\n",
    "    print(text['participantID'], \":\", text['utterance'])"
   ]
  }
 ],
 "metadata": {
  "kernelspec": {
   "display_name": "Python 3 (ipykernel)",
   "language": "python",
   "name": "python3"
  },
  "language_info": {
   "codemirror_mode": {
    "name": "ipython",
    "version": 3
   },
   "file_extension": ".py",
   "mimetype": "text/x-python",
   "name": "python",
   "nbconvert_exporter": "python",
   "pygments_lexer": "ipython3",
   "version": "3.9.12"
  }
 },
 "nbformat": 4,
 "nbformat_minor": 5
}
