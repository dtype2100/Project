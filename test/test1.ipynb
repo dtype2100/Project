{
 "cells": [
  {
   "cell_type": "code",
   "execution_count": 55,
   "metadata": {},
   "outputs": [],
   "source": [
    "import os\n",
    "import pandas as pd\n",
    "import numpy as np\n",
    "from sklearn.preprocessing import LabelEncoder, StandardScaler\n",
    "from sklearn.model_selection import train_test_split\n",
    "from sklearn.datasets import load_iris, load_diabetes\n",
    "from sklearn.ensemble import RandomForestClassifier, RandomForestRegressor, GradientBoostingClassifier\n",
    "from sklearn.metrics import accuracy_score, mean_squared_error"
   ]
  },
  {
   "cell_type": "code",
   "execution_count": 8,
   "metadata": {},
   "outputs": [],
   "source": [
    "diabetes = load_diabetes()\n",
    "df2 = pd.DataFrame(diabetes.data, columns=diabetes.feature_names)\n",
    "df2['class'] = diabetes.target"
   ]
  },
  {
   "cell_type": "code",
   "execution_count": 78,
   "metadata": {},
   "outputs": [],
   "source": [
    "X = df2.drop('class', axis=1)\n",
    "y = df2['class']\n",
    "scaler = StandardScaler()\n",
    "X = scaler.fit_transform(X)\n",
    "X_train, X_test, y_train, y_test = train_test_split(X, y, random_state=42, test_size=0.3)\n",
    "rfc = RandomForestClassifier(max_depth=5, random_state=42).fit(X_train, y_train)\n",
    "grad = GradientBoostingClassifier().fit(X_train, y_train)\n",
    "\n",
    "reg = RandomForestRegressor().fit(X_train, y_train)\n",
    "\n",
    "rfc_pred = rfc.predict(X_test)\n",
    "reg_pred = reg.predict(X_test)\n",
    "grad_pred = grad.predict(X_test)\n",
    "\n",
    "rfc_score = accuracy_score(y_test, rfc_pred)\n",
    "grad_score = accuracy_score(y_test, grad_pred)\n",
    "reg_score = mean_squared_error(y_test, reg_pred)\n",
    "\n",
    "# print('Classifier Accuracy:', clf_score)\n",
    "# print('Mean Squared Error:', reg_score)"
   ]
  },
  {
   "cell_type": "code",
   "execution_count": 86,
   "metadata": {},
   "outputs": [],
   "source": [
    "test = load_diabetes()\n",
    "test_X = test.data\n",
    "test_y = test.target"
   ]
  },
  {
   "cell_type": "code",
   "execution_count": 87,
   "metadata": {},
   "outputs": [
    {
     "data": {
      "text/plain": [
       "array([[ 0.03807591,  0.05068012,  0.06169621, ..., -0.00259226,\n",
       "         0.01990749, -0.01764613],\n",
       "       [-0.00188202, -0.04464164, -0.05147406, ..., -0.03949338,\n",
       "        -0.06833155, -0.09220405],\n",
       "       [ 0.08529891,  0.05068012,  0.04445121, ..., -0.00259226,\n",
       "         0.00286131, -0.02593034],\n",
       "       ...,\n",
       "       [ 0.04170844,  0.05068012, -0.01590626, ..., -0.01107952,\n",
       "        -0.04688253,  0.01549073],\n",
       "       [-0.04547248, -0.04464164,  0.03906215, ...,  0.02655962,\n",
       "         0.04452873, -0.02593034],\n",
       "       [-0.04547248, -0.04464164, -0.0730303 , ..., -0.03949338,\n",
       "        -0.00422151,  0.00306441]])"
      ]
     },
     "execution_count": 87,
     "metadata": {},
     "output_type": "execute_result"
    }
   ],
   "source": [
    "test_X"
   ]
  },
  {
   "cell_type": "code",
   "execution_count": 88,
   "metadata": {},
   "outputs": [
    {
     "data": {
      "text/plain": [
       "array([[ 0.80050009,  1.06548848,  1.29708846, ..., -0.05449919,\n",
       "         0.41853093, -0.37098854],\n",
       "       [-0.03956713, -0.93853666, -1.08218016, ..., -0.83030083,\n",
       "        -1.43658851, -1.93847913],\n",
       "       [ 1.79330681,  1.06548848,  0.93453324, ..., -0.05449919,\n",
       "         0.06015558, -0.54515416],\n",
       "       ...,\n",
       "       [ 0.87686984,  1.06548848, -0.33441002, ..., -0.23293356,\n",
       "        -0.98564884,  0.32567395],\n",
       "       [-0.9560041 , -0.93853666,  0.82123474, ...,  0.55838411,\n",
       "         0.93616291, -0.54515416],\n",
       "       [-0.9560041 , -0.93853666, -1.53537419, ..., -0.83030083,\n",
       "        -0.08875225,  0.06442552]])"
      ]
     },
     "execution_count": 88,
     "metadata": {},
     "output_type": "execute_result"
    }
   ],
   "source": [
    "test_X = scaler.fit_transform(test_X)\n",
    "test_X"
   ]
  },
  {
   "cell_type": "code",
   "execution_count": 92,
   "metadata": {},
   "outputs": [
    {
     "name": "stdout",
     "output_type": "stream",
     "text": [
      "Cosine Similarities:\n",
      " [[ 1.         -0.41296315  0.88156583 ...  0.48051414 -0.0242446\n",
      "  -0.80553914]\n",
      " [-0.41296315  1.         -0.1734083  ... -0.0658949  -0.25859409\n",
      "   0.55812182]\n",
      " [ 0.88156583 -0.1734083   1.         ...  0.61244168 -0.30569363\n",
      "  -0.63106326]\n",
      " ...\n",
      " [ 0.48051414 -0.0658949   0.61244168 ...  1.         -0.76887196\n",
      "  -0.50031142]\n",
      " [-0.0242446  -0.25859409 -0.30569363 ... -0.76887196  1.\n",
      "  -0.14226865]\n",
      " [-0.80553914  0.55812182 -0.63106326 ... -0.50031142 -0.14226865\n",
      "   1.        ]]\n"
     ]
    }
   ],
   "source": [
    "from sklearn.metrics.pairwise import cosine_similarity, euclidean_distances\n",
    "from sklearn.metrics import jaccard_score\n",
    "# jaccard_sim = jaccard_score(X, test_X)\n",
    "similarities = cosine_similarity(X, test_X)\n",
    "distances = euclidean_distances(X, test_X)\n",
    "# print(\"Jaccard Similarity:\", jaccard_sim)\n",
    "print(\"Cosine Similarities:\\n\", similarities)"
   ]
  },
  {
   "cell_type": "code",
   "execution_count": 97,
   "metadata": {},
   "outputs": [
    {
     "name": "stdout",
     "output_type": "stream",
     "text": [
      "LinearRegression - Mean R-squared: 0.482\n",
      "RandomForestRegressor - Mean R-squared: 0.409\n",
      "SVR - Mean R-squared: 0.147\n",
      "Recommended model for Diabetes dataset: LinearRegression\n"
     ]
    }
   ],
   "source": [
    "from sklearn.model_selection import cross_val_score\n",
    "from sklearn.linear_model import LinearRegression\n",
    "from sklearn.ensemble import RandomForestRegressor\n",
    "from sklearn.svm import SVR\n",
    "\n",
    "# Load the Diabetes dataset\n",
    "diabetes = load_diabetes()\n",
    "X_diabetes, y_diabetes = diabetes.data, diabetes.target\n",
    "\n",
    "# List of models to try\n",
    "models = {\n",
    "    'LinearRegression': LinearRegression(),\n",
    "    'RandomForestRegressor': RandomForestRegressor(),\n",
    "    'SVR': SVR()\n",
    "}\n",
    "\n",
    "# Evaluate models using cross-validation\n",
    "for model_name, model in models.items():\n",
    "    scores = cross_val_score(model, X_diabetes, y_diabetes, cv=5)\n",
    "    print(f'{model_name} - Mean R-squared: {scores.mean():.3f}')\n",
    "\n",
    "# Recommend the model with the highest mean R-squared\n",
    "best_model_diabetes = max(models, key=lambda k: cross_val_score(models[k], X_diabetes, y_diabetes, cv=5).mean())\n",
    "print(f'Recommended model for Diabetes dataset: {best_model_diabetes}')\n"
   ]
  },
  {
   "cell_type": "code",
   "execution_count": 79,
   "metadata": {},
   "outputs": [
    {
     "name": "stdout",
     "output_type": "stream",
     "text": [
      "Classifier Accuracy: 0.007518796992481203\n",
      "Classifier Accuracy: 0.0\n"
     ]
    }
   ],
   "source": [
    "print('Classifier Accuracy:', rfc_score)\n",
    "print('Classifier Accuracy:', grad_score)"
   ]
  },
  {
   "cell_type": "code",
   "execution_count": 77,
   "metadata": {},
   "outputs": [
    {
     "data": {
      "text/html": [
       "<div>\n",
       "<style scoped>\n",
       "    .dataframe tbody tr th:only-of-type {\n",
       "        vertical-align: middle;\n",
       "    }\n",
       "\n",
       "    .dataframe tbody tr th {\n",
       "        vertical-align: top;\n",
       "    }\n",
       "\n",
       "    .dataframe thead th {\n",
       "        text-align: right;\n",
       "    }\n",
       "</style>\n",
       "<table border=\"1\" class=\"dataframe\">\n",
       "  <thead>\n",
       "    <tr style=\"text-align: right;\">\n",
       "      <th></th>\n",
       "      <th>data</th>\n",
       "      <th>RandomForestRegressor</th>\n",
       "    </tr>\n",
       "  </thead>\n",
       "  <tbody>\n",
       "    <tr>\n",
       "      <th>0</th>\n",
       "      <td>iris</td>\n",
       "      <td>0.007519</td>\n",
       "    </tr>\n",
       "  </tbody>\n",
       "</table>\n",
       "</div>"
      ],
      "text/plain": [
       "   data  RandomForestRegressor\n",
       "0  iris               0.007519"
      ]
     },
     "execution_count": 77,
     "metadata": {},
     "output_type": "execute_result"
    }
   ],
   "source": [
    "max_score = {\"RandomForestRegressor\":rfc_score, \"GradientBoostingClassifier\":grad_score}\n",
    "max_key = max(max_score, key=max_score.get)\n",
    "max_value = max_score[max_key]\n",
    "best_df = pd.DataFrame([{'data': 'iris', max_key:max_value}])\n",
    "best_df"
   ]
  },
  {
   "cell_type": "code",
   "execution_count": 76,
   "metadata": {},
   "outputs": [
    {
     "data": {
      "text/html": [
       "<div>\n",
       "<style scoped>\n",
       "    .dataframe tbody tr th:only-of-type {\n",
       "        vertical-align: middle;\n",
       "    }\n",
       "\n",
       "    .dataframe tbody tr th {\n",
       "        vertical-align: top;\n",
       "    }\n",
       "\n",
       "    .dataframe thead th {\n",
       "        text-align: right;\n",
       "    }\n",
       "</style>\n",
       "<table border=\"1\" class=\"dataframe\">\n",
       "  <thead>\n",
       "    <tr style=\"text-align: right;\">\n",
       "      <th></th>\n",
       "      <th>data</th>\n",
       "      <th>RandomForestRegressor</th>\n",
       "    </tr>\n",
       "  </thead>\n",
       "  <tbody>\n",
       "    <tr>\n",
       "      <th>0</th>\n",
       "      <td>iris</td>\n",
       "      <td>0.007519</td>\n",
       "    </tr>\n",
       "  </tbody>\n",
       "</table>\n",
       "</div>"
      ],
      "text/plain": [
       "   data  RandomForestRegressor\n",
       "0  iris               0.007519"
      ]
     },
     "execution_count": 76,
     "metadata": {},
     "output_type": "execute_result"
    }
   ],
   "source": [
    "best_df = pd.DataFrame([{'data': 'iris', max_key:max_value}])\n",
    "best_df"
   ]
  },
  {
   "cell_type": "code",
   "execution_count": 72,
   "metadata": {},
   "outputs": [
    {
     "data": {
      "text/html": [
       "<div>\n",
       "<style scoped>\n",
       "    .dataframe tbody tr th:only-of-type {\n",
       "        vertical-align: middle;\n",
       "    }\n",
       "\n",
       "    .dataframe tbody tr th {\n",
       "        vertical-align: top;\n",
       "    }\n",
       "\n",
       "    .dataframe thead th {\n",
       "        text-align: right;\n",
       "    }\n",
       "</style>\n",
       "<table border=\"1\" class=\"dataframe\">\n",
       "  <thead>\n",
       "    <tr style=\"text-align: right;\">\n",
       "      <th></th>\n",
       "      <th>RandomForestClassifier</th>\n",
       "      <th>GradientBoostingClassifier</th>\n",
       "      <th>RandomForestRegressor</th>\n",
       "    </tr>\n",
       "  </thead>\n",
       "  <tbody>\n",
       "    <tr>\n",
       "      <th>iris</th>\n",
       "      <td>0.007519</td>\n",
       "      <td>0.0</td>\n",
       "      <td>0.007519</td>\n",
       "    </tr>\n",
       "  </tbody>\n",
       "</table>\n",
       "</div>"
      ],
      "text/plain": [
       "      RandomForestClassifier  GradientBoostingClassifier  \\\n",
       "iris                0.007519                         0.0   \n",
       "\n",
       "      RandomForestRegressor  \n",
       "iris               0.007519  "
      ]
     },
     "execution_count": 72,
     "metadata": {},
     "output_type": "execute_result"
    }
   ],
   "source": [
    "result_df = pd.DataFrame([{\"RandomForestClassifier\": rfc_score, \"GradientBoostingClassifier\":grad_score, max_key:max_value}], index=['iris'])\n",
    "result_df "
   ]
  },
  {
   "cell_type": "code",
   "execution_count": 53,
   "metadata": {},
   "outputs": [
    {
     "data": {
      "text/html": [
       "<div>\n",
       "<style scoped>\n",
       "    .dataframe tbody tr th:only-of-type {\n",
       "        vertical-align: middle;\n",
       "    }\n",
       "\n",
       "    .dataframe tbody tr th {\n",
       "        vertical-align: top;\n",
       "    }\n",
       "\n",
       "    .dataframe thead th {\n",
       "        text-align: right;\n",
       "    }\n",
       "</style>\n",
       "<table border=\"1\" class=\"dataframe\">\n",
       "  <thead>\n",
       "    <tr style=\"text-align: right;\">\n",
       "      <th></th>\n",
       "      <th>RandomForestRegressor</th>\n",
       "    </tr>\n",
       "  </thead>\n",
       "  <tbody>\n",
       "    <tr>\n",
       "      <th>iris</th>\n",
       "      <td>2945.32618</td>\n",
       "    </tr>\n",
       "  </tbody>\n",
       "</table>\n",
       "</div>"
      ],
      "text/plain": [
       "      RandomForestRegressor\n",
       "iris             2945.32618"
      ]
     },
     "execution_count": 53,
     "metadata": {},
     "output_type": "execute_result"
    }
   ],
   "source": [
    "result_df2 = pd.DataFrame([{\"RandomForestRegressor\": reg_score}], index=['iris'])\n",
    "result_df2"
   ]
  },
  {
   "cell_type": "code",
   "execution_count": 45,
   "metadata": {},
   "outputs": [
    {
     "data": {
      "text/plain": [
       "0.7022653721682848"
      ]
     },
     "execution_count": 45,
     "metadata": {},
     "output_type": "execute_result"
    }
   ],
   "source": [
    "clf.score(X_train, y_train)"
   ]
  },
  {
   "cell_type": "code",
   "execution_count": null,
   "metadata": {},
   "outputs": [],
   "source": [
    "clf_score = accuracy_score(y_test, clf_pred)\n",
    "reg_score = accuracy_score(y_test, reg_pred)"
   ]
  },
  {
   "cell_type": "code",
   "execution_count": 18,
   "metadata": {},
   "outputs": [
    {
     "data": {
      "text/html": [
       "<div>\n",
       "<style scoped>\n",
       "    .dataframe tbody tr th:only-of-type {\n",
       "        vertical-align: middle;\n",
       "    }\n",
       "\n",
       "    .dataframe tbody tr th {\n",
       "        vertical-align: top;\n",
       "    }\n",
       "\n",
       "    .dataframe thead th {\n",
       "        text-align: right;\n",
       "    }\n",
       "</style>\n",
       "<table border=\"1\" class=\"dataframe\">\n",
       "  <thead>\n",
       "    <tr style=\"text-align: right;\">\n",
       "      <th></th>\n",
       "      <th>RandomForestClassifier</th>\n",
       "      <th>RandomForestRegressor</th>\n",
       "    </tr>\n",
       "  </thead>\n",
       "  <tbody>\n",
       "    <tr>\n",
       "      <th>0</th>\n",
       "      <td>10</td>\n",
       "      <td>10</td>\n",
       "    </tr>\n",
       "  </tbody>\n",
       "</table>\n",
       "</div>"
      ],
      "text/plain": [
       "  RandomForestClassifier RandomForestRegressor\n",
       "0                     10                    10"
      ]
     },
     "execution_count": 18,
     "metadata": {},
     "output_type": "execute_result"
    }
   ],
   "source": [
    "df = pd.DataFrame(columns=[\"RandomForestClassifier\", \"RandomForestRegressor\"])\n",
    "df2 = pd.DataFrame([{\"RandomForestClassifier\": 10, \"RandomForestRegressor\": 10}])\n",
    "new_df = pd.concat([df, df2], ignore_index=True)\n",
    "new_df"
   ]
  },
  {
   "cell_type": "code",
   "execution_count": 23,
   "metadata": {},
   "outputs": [
    {
     "data": {
      "text/html": [
       "<div>\n",
       "<style scoped>\n",
       "    .dataframe tbody tr th:only-of-type {\n",
       "        vertical-align: middle;\n",
       "    }\n",
       "\n",
       "    .dataframe tbody tr th {\n",
       "        vertical-align: top;\n",
       "    }\n",
       "\n",
       "    .dataframe thead th {\n",
       "        text-align: right;\n",
       "    }\n",
       "</style>\n",
       "<table border=\"1\" class=\"dataframe\">\n",
       "  <thead>\n",
       "    <tr style=\"text-align: right;\">\n",
       "      <th></th>\n",
       "      <th>1</th>\n",
       "      <th>2</th>\n",
       "    </tr>\n",
       "  </thead>\n",
       "  <tbody>\n",
       "    <tr>\n",
       "      <th>0</th>\n",
       "      <td>1</td>\n",
       "      <td>2</td>\n",
       "    </tr>\n",
       "  </tbody>\n",
       "</table>\n",
       "</div>"
      ],
      "text/plain": [
       "   1  2\n",
       "0  1  2"
      ]
     },
     "execution_count": 23,
     "metadata": {},
     "output_type": "execute_result"
    }
   ],
   "source": [
    "pd.DataFrame([{1:1, 2:2}])"
   ]
  },
  {
   "cell_type": "code",
   "execution_count": 31,
   "metadata": {},
   "outputs": [],
   "source": [
    "diabetes = load_diabetes()\n",
    "df2 = pd.DataFrame(diabetes.data, columns=diabetes.feature_names)\n",
    "df2['class'] = diabetes.target"
   ]
  },
  {
   "cell_type": "code",
   "execution_count": 34,
   "metadata": {},
   "outputs": [
    {
     "name": "stdout",
     "output_type": "stream",
     "text": [
      "<class 'pandas.core.frame.DataFrame'>\n",
      "RangeIndex: 442 entries, 0 to 441\n",
      "Data columns (total 11 columns):\n",
      " #   Column  Non-Null Count  Dtype  \n",
      "---  ------  --------------  -----  \n",
      " 0   age     442 non-null    float64\n",
      " 1   sex     442 non-null    float64\n",
      " 2   bmi     442 non-null    float64\n",
      " 3   bp      442 non-null    float64\n",
      " 4   s1      442 non-null    float64\n",
      " 5   s2      442 non-null    float64\n",
      " 6   s3      442 non-null    float64\n",
      " 7   s4      442 non-null    float64\n",
      " 8   s5      442 non-null    float64\n",
      " 9   s6      442 non-null    float64\n",
      " 10  class   442 non-null    float64\n",
      "dtypes: float64(11)\n",
      "memory usage: 38.1 KB\n"
     ]
    }
   ],
   "source": [
    "df2.info()"
   ]
  },
  {
   "cell_type": "code",
   "execution_count": 7,
   "metadata": {},
   "outputs": [],
   "source": [
    "iris = load_iris()\n",
    "df = pd.DataFrame(iris.data, columns=iris.feature_names)\n",
    "df['class'] = iris.target"
   ]
  },
  {
   "cell_type": "code",
   "execution_count": 3,
   "metadata": {},
   "outputs": [],
   "source": [
    "data_path = '../Test_01.csv'\n",
    "\n",
    "data_type = ''\n",
    "if os.path.splitext(data_path)[-1] == '.csv':\n",
    "    data_type = 'Structured Data'"
   ]
  },
  {
   "cell_type": "code",
   "execution_count": null,
   "metadata": {},
   "outputs": [],
   "source": [
    "if data_type == 'Structured Data':\n",
    "    data = pd.read_csv(data_path)"
   ]
  },
  {
   "cell_type": "code",
   "execution_count": 11,
   "metadata": {},
   "outputs": [
    {
     "data": {
      "text/plain": [
       "0    50\n",
       "1    50\n",
       "2    50\n",
       "Name: class, dtype: int64"
      ]
     },
     "execution_count": 11,
     "metadata": {},
     "output_type": "execute_result"
    }
   ],
   "source": [
    "df['class'].value_counts()"
   ]
  },
  {
   "cell_type": "code",
   "execution_count": 28,
   "metadata": {},
   "outputs": [
    {
     "name": "stdout",
     "output_type": "stream",
     "text": [
      "<class 'pandas.core.frame.DataFrame'>\n",
      "RangeIndex: 150 entries, 0 to 149\n",
      "Data columns (total 5 columns):\n",
      " #   Column             Non-Null Count  Dtype  \n",
      "---  ------             --------------  -----  \n",
      " 0   sepal length (cm)  150 non-null    float64\n",
      " 1   sepal width (cm)   150 non-null    float64\n",
      " 2   petal length (cm)  150 non-null    float64\n",
      " 3   petal width (cm)   150 non-null    float64\n",
      " 4   class              150 non-null    int32  \n",
      "dtypes: float64(4), int32(1)\n",
      "memory usage: 5.4 KB\n"
     ]
    }
   ],
   "source": [
    "df.info()"
   ]
  },
  {
   "cell_type": "code",
   "execution_count": 50,
   "metadata": {},
   "outputs": [],
   "source": [
    "\n",
    "target_label = 'class'\n",
    "categorical_features = df.select_dtypes(include=['object']) \n",
    "if len(df[target_label].unique()) > 2 and categorical_features.empty == True:\n",
    "    df_excluded = df.drop(columns=target_label)\n",
    "    numeric_features = df_excluded.select_dtypes(include=['float64', 'int64', 'int32'])\n",
    "    scaler = StandardScaler()\n",
    "    numeric_features = scaler.fit_transform(numeric_features)"
   ]
  },
  {
   "cell_type": "code",
   "execution_count": null,
   "metadata": {},
   "outputs": [],
   "source": [
    "label_num = len(df[target_label].unique())\n",
    "# categorical_features = np.ravel(categorical_features) # select_dtypes를 출력하면 DataFrame로 나오기 때문에, np.ravel을 사용하여 np.array 형태로 변환 \n",
    "\n",
    "if categorical_features.empty == False:\n",
    "    for col in categorical_features.columns:\n",
    "        if categorical_features[col].str.match(r'\\d{4}-\\d{2}-\\d{2}').all() == True or categorical_features[col].str.match(r'\\d{4}:\\d{2}:\\d{2}').all() == True:\n",
    "            categorical_features[col] = pd.to_datetime(categorical_features[col])\n",
    "            categorical_features['year'] = categorical_features[col].dt.year\n",
    "            categorical_features['month'] = categorical_features[col].dt.month\n",
    "            categorical_features['day'] = categorical_features[col].dt.day\n",
    "            categorical_features['hour'] = categorical_features[col].dt.hour\n",
    "            categorical_features['minute'] = categorical_features[col].dt.minute\n",
    "        else:\n",
    "            encoder = LabelEncoder()\n",
    "            categorical_features[col] = encoder.fit_transform(categorical_features[col])\n",
    "\n",
    "    datetime_columns = categorical_features.select_dtypes('datetime64')\n",
    "    # datetime64 컬럼을 삭제\n",
    "    categorical_features = categorical_features.drop(columns=datetime_columns.columns)\n",
    "    # final_df = pd.concat([pd.DataFrame(numeric_features), pd.DataFrame(categorical_features)], axis=1)\n",
    "    # print(final_df)\n",
    "    print(categorical_features)\n",
    "    X_train, X_test, y_train, y_test = train_test_split(numeric_features, categorical_features, test_size=0.3, shuffle=True, random_state=42)"
   ]
  }
 ],
 "metadata": {
  "kernelspec": {
   "display_name": "pro1",
   "language": "python",
   "name": "python3"
  },
  "language_info": {
   "codemirror_mode": {
    "name": "ipython",
    "version": 3
   },
   "file_extension": ".py",
   "mimetype": "text/x-python",
   "name": "python",
   "nbconvert_exporter": "python",
   "pygments_lexer": "ipython3",
   "version": "3.11.4"
  }
 },
 "nbformat": 4,
 "nbformat_minor": 2
}
